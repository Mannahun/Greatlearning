{
  "nbformat": 4,
  "nbformat_minor": 0,
  "metadata": {
    "kernelspec": {
      "display_name": "Python 3",
      "language": "python",
      "name": "python3"
    },
    "language_info": {
      "codemirror_mode": {
        "name": "ipython",
        "version": 3
      },
      "file_extension": ".py",
      "mimetype": "text/x-python",
      "name": "python",
      "nbconvert_exporter": "python",
      "pygments_lexer": "ipython3",
      "version": "3.7.3"
    },
    "colab": {
      "name": "CNN project Galli.ipynb",
      "provenance": []
    },
    "accelerator": "GPU"
  },
  "cells": [
    {
      "cell_type": "code",
      "metadata": {
        "id": "tzex3j_yCyFZ"
      },
      "source": [
        ""
      ],
      "execution_count": null,
      "outputs": []
    },
    {
      "cell_type": "markdown",
      "metadata": {
        "id": "Eu9TisNtCsOg"
      },
      "source": [
        "\n",
        "# Convolutional Neual Network project\n",
        "\n",
        "\n"
      ]
    },
    {
      "cell_type": "markdown",
      "metadata": {
        "id": "xCU608YVC3oD"
      },
      "source": [
        "### Data description"
      ]
    },
    {
      "cell_type": "markdown",
      "metadata": {
        "id": "9N7QQVUUDAan"
      },
      "source": [
        "You are provided with a dataset of images of plant seedlings at various stages of grown. Each image has a filename that is its unique id. The dataset comprises 12 plant species. The goal of the project is to create a classifier capable of determining a plant's species from a photo."
      ]
    },
    {
      "cell_type": "code",
      "metadata": {
        "id": "fZoki72o4_sm"
      },
      "source": [
        "import numpy as np\n",
        "import pandas as pd\n",
        "import matplotlib.pyplot as plt\n",
        "import seaborn as sns"
      ],
      "execution_count": 2,
      "outputs": []
    },
    {
      "cell_type": "code",
      "metadata": {
        "id": "V20A0HBw4_so"
      },
      "source": [
        "from sklearn.model_selection import train_test_split"
      ],
      "execution_count": 3,
      "outputs": []
    },
    {
      "cell_type": "markdown",
      "metadata": {
        "id": "iXXz5R0KDG6K"
      },
      "source": [
        "First, a few basic libraries are imported"
      ]
    },
    {
      "cell_type": "code",
      "metadata": {
        "colab": {
          "base_uri": "https://localhost:8080/"
        },
        "id": "jS1Fm8PM5Jdn",
        "outputId": "999c7193-6e9c-441f-bec8-7e8636b2df79"
      },
      "source": [
        "from google.colab import drive\n",
        "\n",
        "drive.mount('/content/gdrive')"
      ],
      "execution_count": 4,
      "outputs": [
        {
          "output_type": "stream",
          "text": [
            "Mounted at /content/gdrive\n"
          ],
          "name": "stdout"
        }
      ]
    },
    {
      "cell_type": "markdown",
      "metadata": {
        "id": "OWhf_fulDMLN"
      },
      "source": [
        "To use Google Colab, I first uploaded the provided files to my Google Drive and then proceeded to mount Google Drive to my Colab space"
      ]
    },
    {
      "cell_type": "code",
      "metadata": {
        "id": "4s_SZ7284_so"
      },
      "source": [
        "from sklearn.preprocessing import LabelBinarizer"
      ],
      "execution_count": 5,
      "outputs": []
    },
    {
      "cell_type": "code",
      "metadata": {
        "id": "hSy2ub9P4_sp"
      },
      "source": [
        "from tensorflow.keras import datasets, models, layers, optimizers\n",
        "from tensorflow.keras.callbacks import ModelCheckpoint, EarlyStopping\n",
        "\n"
      ],
      "execution_count": 6,
      "outputs": []
    },
    {
      "cell_type": "code",
      "metadata": {
        "id": "iJJvkmS04_sp"
      },
      "source": [
        "from sklearn.metrics import classification_report, confusion_matrix"
      ],
      "execution_count": 32,
      "outputs": []
    },
    {
      "cell_type": "markdown",
      "metadata": {
        "id": "H-H8NAqjDahD"
      },
      "source": [
        "I proceeded to download a few other important libraries"
      ]
    },
    {
      "cell_type": "code",
      "metadata": {
        "id": "AGbHYoS94_sq",
        "outputId": "a7f9ac78-d66f-42ef-ea27-b8925e4d38ea"
      },
      "source": [
        "pip install opencv-python"
      ],
      "execution_count": null,
      "outputs": [
        {
          "output_type": "stream",
          "text": [
            "Collecting opencv-python\n",
            "\u001b[?25l  Downloading https://files.pythonhosted.org/packages/81/44/8f37035f0558e597108e5aa7952f7b422a6eb1275b24f7d31027171700d0/opencv_python-4.5.1.48-cp37-cp37m-macosx_10_13_x86_64.whl (40.3MB)\n",
            "\u001b[K     |████████████████████████████████| 40.3MB 65kB/s  eta 0:00:01\n",
            "\u001b[?25hRequirement already satisfied: numpy>=1.14.5 in ./anaconda3/lib/python3.7/site-packages (from opencv-python) (1.19.5)\n",
            "Installing collected packages: opencv-python\n",
            "Successfully installed opencv-python-4.5.1.48\n",
            "Note: you may need to restart the kernel to use updated packages.\n"
          ],
          "name": "stdout"
        }
      ]
    },
    {
      "cell_type": "code",
      "metadata": {
        "id": "zRgkPpzK4_sq"
      },
      "source": [
        "import cv2"
      ],
      "execution_count": 7,
      "outputs": []
    },
    {
      "cell_type": "code",
      "metadata": {
        "id": "bSosXHlC5mrA"
      },
      "source": [
        ""
      ],
      "execution_count": null,
      "outputs": []
    },
    {
      "cell_type": "markdown",
      "metadata": {
        "id": "1e7eicbLDmxX"
      },
      "source": [
        "## Loading the dataset"
      ]
    },
    {
      "cell_type": "code",
      "metadata": {
        "id": "uUgL4U1y4_sr"
      },
      "source": [
        "path='/content/gdrive/My Drive/Labels.csv'"
      ],
      "execution_count": 8,
      "outputs": []
    },
    {
      "cell_type": "code",
      "metadata": {
        "id": "P-4-dQQj4_ss"
      },
      "source": [
        "df=pd.read_csv(path)"
      ],
      "execution_count": 9,
      "outputs": []
    },
    {
      "cell_type": "code",
      "metadata": {
        "colab": {
          "base_uri": "https://localhost:8080/",
          "height": 204
        },
        "id": "6B17PWoQ4_ss",
        "outputId": "e3cfbf86-2e10-4000-ed78-8f212532ba01"
      },
      "source": [
        "df.head()"
      ],
      "execution_count": 11,
      "outputs": [
        {
          "output_type": "execute_result",
          "data": {
            "text/html": [
              "<div>\n",
              "<style scoped>\n",
              "    .dataframe tbody tr th:only-of-type {\n",
              "        vertical-align: middle;\n",
              "    }\n",
              "\n",
              "    .dataframe tbody tr th {\n",
              "        vertical-align: top;\n",
              "    }\n",
              "\n",
              "    .dataframe thead th {\n",
              "        text-align: right;\n",
              "    }\n",
              "</style>\n",
              "<table border=\"1\" class=\"dataframe\">\n",
              "  <thead>\n",
              "    <tr style=\"text-align: right;\">\n",
              "      <th></th>\n",
              "      <th>Label</th>\n",
              "    </tr>\n",
              "  </thead>\n",
              "  <tbody>\n",
              "    <tr>\n",
              "      <th>0</th>\n",
              "      <td>Small-flowered Cranesbill</td>\n",
              "    </tr>\n",
              "    <tr>\n",
              "      <th>1</th>\n",
              "      <td>Small-flowered Cranesbill</td>\n",
              "    </tr>\n",
              "    <tr>\n",
              "      <th>2</th>\n",
              "      <td>Small-flowered Cranesbill</td>\n",
              "    </tr>\n",
              "    <tr>\n",
              "      <th>3</th>\n",
              "      <td>Small-flowered Cranesbill</td>\n",
              "    </tr>\n",
              "    <tr>\n",
              "      <th>4</th>\n",
              "      <td>Small-flowered Cranesbill</td>\n",
              "    </tr>\n",
              "  </tbody>\n",
              "</table>\n",
              "</div>"
            ],
            "text/plain": [
              "                       Label\n",
              "0  Small-flowered Cranesbill\n",
              "1  Small-flowered Cranesbill\n",
              "2  Small-flowered Cranesbill\n",
              "3  Small-flowered Cranesbill\n",
              "4  Small-flowered Cranesbill"
            ]
          },
          "metadata": {
            "tags": []
          },
          "execution_count": 11
        }
      ]
    },
    {
      "cell_type": "markdown",
      "metadata": {
        "id": "wzpWUheVDrcb"
      },
      "source": [
        "The labels.csv file is a dataset of the image labels, they are a one column pandas dataframe containing an ordered list of labels"
      ]
    },
    {
      "cell_type": "code",
      "metadata": {
        "colab": {
          "base_uri": "https://localhost:8080/"
        },
        "id": "S12lujHM4_ss",
        "outputId": "2a4338a1-0a66-4f81-ad9d-d02abe75c89d"
      },
      "source": [
        "df.shape"
      ],
      "execution_count": 12,
      "outputs": [
        {
          "output_type": "execute_result",
          "data": {
            "text/plain": [
              "(4750, 1)"
            ]
          },
          "metadata": {
            "tags": []
          },
          "execution_count": 12
        }
      ]
    },
    {
      "cell_type": "markdown",
      "metadata": {
        "id": "WzPLro-5D79z"
      },
      "source": [
        "The dataset comprises 4750 labels"
      ]
    },
    {
      "cell_type": "code",
      "metadata": {
        "colab": {
          "base_uri": "https://localhost:8080/"
        },
        "id": "Fbds7Mhr4_st",
        "outputId": "6ad60ce6-8b58-473c-f9e6-53aa758b186c"
      },
      "source": [
        "df.Label.value_counts()"
      ],
      "execution_count": 13,
      "outputs": [
        {
          "output_type": "execute_result",
          "data": {
            "text/plain": [
              "Loose Silky-bent             654\n",
              "Common Chickweed             611\n",
              "Scentless Mayweed            516\n",
              "Small-flowered Cranesbill    496\n",
              "Fat Hen                      475\n",
              "Charlock                     390\n",
              "Sugar beet                   385\n",
              "Cleavers                     287\n",
              "Black-grass                  263\n",
              "Shepherds Purse              231\n",
              "Common wheat                 221\n",
              "Maize                        221\n",
              "Name: Label, dtype: int64"
            ]
          },
          "metadata": {
            "tags": []
          },
          "execution_count": 13
        }
      ]
    },
    {
      "cell_type": "markdown",
      "metadata": {
        "id": "b7grpU54EAMq"
      },
      "source": [
        "The dataset comprises also 12 classes of plants"
      ]
    },
    {
      "cell_type": "code",
      "metadata": {
        "colab": {
          "base_uri": "https://localhost:8080/"
        },
        "id": "wIYSNjdc4_st",
        "outputId": "73ecc629-062a-4503-da1a-10d7ac410180"
      },
      "source": [
        "df.info()"
      ],
      "execution_count": 14,
      "outputs": [
        {
          "output_type": "stream",
          "text": [
            "<class 'pandas.core.frame.DataFrame'>\n",
            "RangeIndex: 4750 entries, 0 to 4749\n",
            "Data columns (total 1 columns):\n",
            " #   Column  Non-Null Count  Dtype \n",
            "---  ------  --------------  ----- \n",
            " 0   Label   4750 non-null   object\n",
            "dtypes: object(1)\n",
            "memory usage: 37.2+ KB\n"
          ],
          "name": "stdout"
        }
      ]
    },
    {
      "cell_type": "code",
      "metadata": {
        "id": "H5KSvKTR4_st"
      },
      "source": [
        "path2='/content/gdrive/My Drive/images.npy'"
      ],
      "execution_count": 10,
      "outputs": []
    },
    {
      "cell_type": "code",
      "metadata": {
        "id": "FSFKzumS4_su"
      },
      "source": [
        "data=np.load(path2)"
      ],
      "execution_count": 11,
      "outputs": []
    },
    {
      "cell_type": "markdown",
      "metadata": {
        "id": "G7oqge4bELex"
      },
      "source": [
        "I then proceeded to load the images. These, as explained in the project instructions were converted to a numpy array file for convenience"
      ]
    },
    {
      "cell_type": "code",
      "metadata": {
        "colab": {
          "base_uri": "https://localhost:8080/"
        },
        "id": "o6Cf3pPh4_su",
        "outputId": "3da60570-8b9a-4047-dc01-eaa11f4dde10"
      },
      "source": [
        "data.shape"
      ],
      "execution_count": 23,
      "outputs": [
        {
          "output_type": "execute_result",
          "data": {
            "text/plain": [
              "(4750, 128, 128, 3)"
            ]
          },
          "metadata": {
            "tags": []
          },
          "execution_count": 23
        }
      ]
    },
    {
      "cell_type": "markdown",
      "metadata": {
        "id": "fNWd-5DzEapc"
      },
      "source": [
        "So the dataset comprises 4750 images, 128x128 pixels, on 3 color channels"
      ]
    },
    {
      "cell_type": "markdown",
      "metadata": {
        "id": "wLFQtwcdE_it"
      },
      "source": [
        "## Data pre-processing"
      ]
    },
    {
      "cell_type": "code",
      "metadata": {
        "id": "WH_04cMa4_sv"
      },
      "source": [
        "data=data.astype('float32')/255.0\n",
        "#normalization"
      ],
      "execution_count": 12,
      "outputs": []
    },
    {
      "cell_type": "markdown",
      "metadata": {
        "id": "tPqOjSI6EiIk"
      },
      "source": [
        "We first proceeded to normalize the images"
      ]
    },
    {
      "cell_type": "code",
      "metadata": {
        "colab": {
          "base_uri": "https://localhost:8080/",
          "height": 285
        },
        "id": "eHRHs_Yx4_sv",
        "outputId": "2a014c48-aab3-429e-d1f2-2b1e37ef9e49"
      },
      "source": [
        "plt.imshow(data[0])"
      ],
      "execution_count": 13,
      "outputs": [
        {
          "output_type": "execute_result",
          "data": {
            "text/plain": [
              "<matplotlib.image.AxesImage at 0x7f62e1f8bc90>"
            ]
          },
          "metadata": {
            "tags": []
          },
          "execution_count": 13
        },
        {
          "output_type": "display_data",
          "data": {
            "image/png": "[encoded data removed]",
            "text/plain": [
              "<Figure size 432x288 with 1 Axes>"
            ]
          },
          "metadata": {
            "tags": [],
            "needs_background": "light"
          }
        }
      ]
    },
    {
      "cell_type": "markdown",
      "metadata": {
        "id": "en60Pv9LEs8p"
      },
      "source": [
        "I hereby visualized the first image"
      ]
    },
    {
      "cell_type": "code",
      "metadata": {
        "id": "kuHv6S994_sw"
      },
      "source": [
        "for idx, img in enumerate(data):\n",
        "  data[idx] = cv2.GaussianBlur(img, (5, 5), 0)\n",
        "#gaussian blur"
      ],
      "execution_count": 14,
      "outputs": []
    },
    {
      "cell_type": "markdown",
      "metadata": {
        "id": "QjAKwW06E1Kg"
      },
      "source": [
        "I then performed a Gaussian Blur of the image"
      ]
    },
    {
      "cell_type": "code",
      "metadata": {
        "colab": {
          "base_uri": "https://localhost:8080/",
          "height": 285
        },
        "id": "Ih2EQChY4_sw",
        "outputId": "821def17-6f2d-4737-ce87-fe84f9032581"
      },
      "source": [
        "plt.imshow(data[0])"
      ],
      "execution_count": 15,
      "outputs": [
        {
          "output_type": "execute_result",
          "data": {
            "text/plain": [
              "<matplotlib.image.AxesImage at 0x7f62e0a03b90>"
            ]
          },
          "metadata": {
            "tags": []
          },
          "execution_count": 15
        },
        {
          "output_type": "display_data",
          "data": {
            "image/png": "[encoded data removed]",
            "text/plain": [
              "<Figure size 432x288 with 1 Axes>"
            ]
          },
          "metadata": {
            "tags": [],
            "needs_background": "light"
          }
        }
      ]
    },
    {
      "cell_type": "markdown",
      "metadata": {
        "id": "5Hm_zpvZE5U4"
      },
      "source": [
        "And here it is what the images look like after blurring. They are, well...blurred"
      ]
    },
    {
      "cell_type": "code",
      "metadata": {
        "id": "fm_4_muA4_sx"
      },
      "source": [
        ""
      ],
      "execution_count": 53,
      "outputs": []
    },
    {
      "cell_type": "markdown",
      "metadata": {
        "id": "Gqu0XGZWFTpa"
      },
      "source": [
        "## Prepare the data for CNN"
      ]
    },
    {
      "cell_type": "code",
      "metadata": {
        "id": "KXQJ7Ovw4_sx"
      },
      "source": [
        "# The data, split between train and test sets:\n",
        "X_train, X_test, y_train, y_test = train_test_split(data, df.Label, test_size=0.33, random_state=42)"
      ],
      "execution_count": 16,
      "outputs": []
    },
    {
      "cell_type": "markdown",
      "metadata": {
        "id": "OhtzyxtWFXtU"
      },
      "source": [
        "I first created a train set, to train the CNN and a test set"
      ]
    },
    {
      "cell_type": "code",
      "metadata": {
        "colab": {
          "base_uri": "https://localhost:8080/"
        },
        "id": "snq_3krn4_sy",
        "outputId": "78a61e41-c149-4435-b1ba-14397cb30109"
      },
      "source": [
        "# Print the shape of dataset.\n",
        "print('X_train shape:', X_train.shape)\n",
        "print(X_train.shape[0], 'train samples')\n",
        "print(X_test.shape[0], 'test samples')"
      ],
      "execution_count": 74,
      "outputs": [
        {
          "output_type": "stream",
          "text": [
            "X_train shape: (3182, 128, 128, 3)\n",
            "3182 train samples\n",
            "1568 test samples\n"
          ],
          "name": "stdout"
        }
      ]
    },
    {
      "cell_type": "markdown",
      "metadata": {
        "id": "XKmxH-yLFc8K"
      },
      "source": [
        "And this is how these sets are composed"
      ]
    },
    {
      "cell_type": "code",
      "metadata": {
        "id": "EzK7jxpa4_sy"
      },
      "source": [
        "# The data, split between train and test sets:\n",
        "X_test, X_val, y_test, y_val = train_test_split(X_test, y_test, test_size=0.5, random_state=42)"
      ],
      "execution_count": 17,
      "outputs": []
    },
    {
      "cell_type": "markdown",
      "metadata": {
        "id": "QX8QIGu_FhGg"
      },
      "source": [
        "I then proceeded to further split the test set into a test set and a validation set, as per instructions"
      ]
    },
    {
      "cell_type": "code",
      "metadata": {
        "colab": {
          "base_uri": "https://localhost:8080/"
        },
        "id": "n8VlZwrY4_sy",
        "outputId": "3b79a5e9-bfdb-4734-f3ee-b6c5576be6ab"
      },
      "source": [
        "# Print the shape of dataset.\n",
        "print(X_train.shape[0], 'train samples')\n",
        "print(X_test.shape[0], 'test samples')\n",
        "print(X_val.shape[0], 'validation samples')"
      ],
      "execution_count": 76,
      "outputs": [
        {
          "output_type": "stream",
          "text": [
            "3182 train samples\n",
            "784 test samples\n",
            "784 validation samples\n"
          ],
          "name": "stdout"
        }
      ]
    },
    {
      "cell_type": "markdown",
      "metadata": {
        "id": "p5XpHAH5ForP"
      },
      "source": [
        "And this is how the data are composed, as a whole"
      ]
    },
    {
      "cell_type": "code",
      "metadata": {
        "id": "pS1r2vYD4_sz"
      },
      "source": [
        "#one hot encoding of labels\n",
        "enc = LabelBinarizer()\n",
        "y_train = enc.fit_transform(y_train)\n",
        "y_test = enc.fit_transform(y_test)\n",
        "y_val = enc.fit_transform(y_val)"
      ],
      "execution_count": 18,
      "outputs": []
    },
    {
      "cell_type": "markdown",
      "metadata": {
        "id": "9e38NAolFvNX"
      },
      "source": [
        "Next I transformed the y label files into one hot encoding vectors"
      ]
    },
    {
      "cell_type": "code",
      "metadata": {
        "colab": {
          "base_uri": "https://localhost:8080/"
        },
        "id": "mEvQsCd3SZ8U",
        "outputId": "260c35a6-5c28-4f0e-ba8f-3e0b1eeeb934"
      },
      "source": [
        "print(y_train[0])"
      ],
      "execution_count": 19,
      "outputs": [
        {
          "output_type": "stream",
          "text": [
            "[0 1 0 0 0 0 0 0 0 0 0 0]\n"
          ],
          "name": "stdout"
        }
      ]
    },
    {
      "cell_type": "markdown",
      "metadata": {
        "id": "pmjqqvtaSfQ-"
      },
      "source": [
        "After conversion to one hot encoding vectors, each label has been converted to a vector of length 12 (as long as the number of classes, the '1' indicates the class it belongs)"
      ]
    },
    {
      "cell_type": "code",
      "metadata": {
        "colab": {
          "base_uri": "https://localhost:8080/"
        },
        "id": "rFTv3sVl4_sz",
        "outputId": "77737ab4-2ae7-4762-d5a4-f3f1ee042b34"
      },
      "source": [
        "print(y_train.shape)\n",
        "print(y_test.shape)\n",
        "print(y_val.shape)"
      ],
      "execution_count": 78,
      "outputs": [
        {
          "output_type": "stream",
          "text": [
            "(3182, 12)\n",
            "(784, 12)\n",
            "(784, 12)\n"
          ],
          "name": "stdout"
        }
      ]
    },
    {
      "cell_type": "markdown",
      "metadata": {
        "id": "E1haihreF2oF"
      },
      "source": [
        "And these are their shapes. So the training data looks like:"
      ]
    },
    {
      "cell_type": "code",
      "metadata": {
        "colab": {
          "base_uri": "https://localhost:8080/"
        },
        "id": "dAj5VwZeGNrn",
        "outputId": "246a0f86-c3ab-47d2-9a07-613deb8792d2"
      },
      "source": [
        "print(X_train.shape)\n",
        "print(y_train.shape)"
      ],
      "execution_count": 20,
      "outputs": [
        {
          "output_type": "stream",
          "text": [
            "(3182, 128, 128, 3)\n",
            "(3182, 12)\n"
          ],
          "name": "stdout"
        }
      ]
    },
    {
      "cell_type": "markdown",
      "metadata": {
        "id": "AhtVIdIvGTGf"
      },
      "source": [
        "And now the data are in a format compatible for Keras"
      ]
    },
    {
      "cell_type": "markdown",
      "metadata": {
        "id": "QZOIL4ZsF6Ib"
      },
      "source": [
        "## Building CNN"
      ]
    },
    {
      "cell_type": "code",
      "metadata": {
        "id": "11C_YEEFFOEz"
      },
      "source": [
        "\n",
        "batch_size = 32\n",
        "num_classes = 12\n",
        "epochs = 50\n",
        "#num_predictions = 20"
      ],
      "execution_count": 43,
      "outputs": []
    },
    {
      "cell_type": "markdown",
      "metadata": {
        "id": "BPdb9LXbGYcQ"
      },
      "source": [
        "I set the batch size, number of epochs and number of classes."
      ]
    },
    {
      "cell_type": "code",
      "metadata": {
        "colab": {
          "base_uri": "https://localhost:8080/"
        },
        "id": "8nbuRkhO4_sz",
        "outputId": "cd7e8e97-a133-4d3d-a773-083582ff8aab"
      },
      "source": [
        "# Set the CNN model\n",
        "\n",
        "#batch_size = None\n",
        "\n",
        "model = models.Sequential()\n",
        "model.add(layers.Conv2D(32, (5, 5), padding='same', activation=\"relu\", input_shape=(X_train.shape[1:])))\n",
        "model.add(layers.BatchNormalization())\n",
        "model.add(layers.MaxPooling2D((2, 2)))\n",
        "model.add(layers.Dropout(0.2))\n",
        "model.add(layers.Conv2D(64, (5, 5), padding='same', activation=\"relu\"))\n",
        "model.add(layers.BatchNormalization())\n",
        "model.add(layers.MaxPooling2D((2, 2)))\n",
        "model.add(layers.Dropout(0.3))\n",
        "model.add(layers.Conv2D(64, (3, 3), padding='same', activation=\"relu\"))\n",
        "model.add(layers.BatchNormalization())\n",
        "model.add(layers.MaxPooling2D((2, 2)))\n",
        "model.add(layers.Dropout(0.4))\n",
        "model.add(layers.Conv2D(64, (3, 3), padding='same', activation=\"relu\"))\n",
        "model.add(layers.BatchNormalization())\n",
        "model.add(layers.MaxPooling2D((2, 2)))\n",
        "model.add(layers.Dropout(0.5))\n",
        "\n",
        "model.add(layers.GlobalMaxPooling2D())\n",
        "model.add(layers.Dense(256, activation=\"relu\"))\n",
        "model.add(layers.Dropout(0.5))\n",
        "model.add(layers.Dense(12, activation=\"softmax\"))\n",
        "\n",
        "model.summary()"
      ],
      "execution_count": 44,
      "outputs": [
        {
          "output_type": "stream",
          "text": [
            "Model: \"sequential_1\"\n",
            "_________________________________________________________________\n",
            "Layer (type)                 Output Shape              Param #   \n",
            "=================================================================\n",
            "conv2d_4 (Conv2D)            (None, 128, 128, 32)      2432      \n",
            "_________________________________________________________________\n",
            "batch_normalization_4 (Batch (None, 128, 128, 32)      128       \n",
            "_________________________________________________________________\n",
            "max_pooling2d_4 (MaxPooling2 (None, 64, 64, 32)        0         \n",
            "_________________________________________________________________\n",
            "dropout_5 (Dropout)          (None, 64, 64, 32)        0         \n",
            "_________________________________________________________________\n",
            "conv2d_5 (Conv2D)            (None, 64, 64, 64)        51264     \n",
            "_________________________________________________________________\n",
            "batch_normalization_5 (Batch (None, 64, 64, 64)        256       \n",
            "_________________________________________________________________\n",
            "max_pooling2d_5 (MaxPooling2 (None, 32, 32, 64)        0         \n",
            "_________________________________________________________________\n",
            "dropout_6 (Dropout)          (None, 32, 32, 64)        0         \n",
            "_________________________________________________________________\n",
            "conv2d_6 (Conv2D)            (None, 32, 32, 64)        36928     \n",
            "_________________________________________________________________\n",
            "batch_normalization_6 (Batch (None, 32, 32, 64)        256       \n",
            "_________________________________________________________________\n",
            "max_pooling2d_6 (MaxPooling2 (None, 16, 16, 64)        0         \n",
            "_________________________________________________________________\n",
            "dropout_7 (Dropout)          (None, 16, 16, 64)        0         \n",
            "_________________________________________________________________\n",
            "conv2d_7 (Conv2D)            (None, 16, 16, 64)        36928     \n",
            "_________________________________________________________________\n",
            "batch_normalization_7 (Batch (None, 16, 16, 64)        256       \n",
            "_________________________________________________________________\n",
            "max_pooling2d_7 (MaxPooling2 (None, 8, 8, 64)          0         \n",
            "_________________________________________________________________\n",
            "dropout_8 (Dropout)          (None, 8, 8, 64)          0         \n",
            "_________________________________________________________________\n",
            "global_max_pooling2d_1 (Glob (None, 64)                0         \n",
            "_________________________________________________________________\n",
            "dense_2 (Dense)              (None, 256)               16640     \n",
            "_________________________________________________________________\n",
            "dropout_9 (Dropout)          (None, 256)               0         \n",
            "_________________________________________________________________\n",
            "dense_3 (Dense)              (None, 12)                3084      \n",
            "=================================================================\n",
            "Total params: 148,172\n",
            "Trainable params: 147,724\n",
            "Non-trainable params: 448\n",
            "_________________________________________________________________\n"
          ],
          "name": "stdout"
        }
      ]
    },
    {
      "cell_type": "markdown",
      "metadata": {
        "id": "aNm5u4slGkz-"
      },
      "source": [
        "I then created the NN, first the data go through convolution filters, to extract features, and pooling filters, to remove the features that are not necessary and reduce data volume. The the data are passed to an ANN, which ends with 12 neurons and a softmax function for classification"
      ]
    },
    {
      "cell_type": "code",
      "metadata": {
        "id": "J_4I-4n74_sz"
      },
      "source": [
        "# initiate Adam optimizer\n",
        "opt = optimizers.Adam(learning_rate=0.002,epsilon=1e-08)\n",
        "#beta_1=0.9, beta_2=0.999"
      ],
      "execution_count": 45,
      "outputs": []
    },
    {
      "cell_type": "code",
      "metadata": {
        "id": "DnV0u3QF4_s0"
      },
      "source": [
        "\n",
        "model.compile(loss='categorical_crossentropy',\n",
        "              optimizer=opt,\n",
        "              metrics=['accuracy'])"
      ],
      "execution_count": 46,
      "outputs": []
    },
    {
      "cell_type": "code",
      "metadata": {
        "colab": {
          "base_uri": "https://localhost:8080/"
        },
        "id": "ItyJh6eRNBzF",
        "outputId": "4c8eb34b-a1e4-4aa1-99d1-078dc90bee7b"
      },
      "source": [
        "early_stopping = EarlyStopping(monitor='val_loss', min_delta=0.001, patience=10)\n",
        "\n",
        "\n",
        "model_checkpoint =  ModelCheckpoint('cifar_cnn_checkpoint_{epoch:02d}_loss{val_loss:.4f}.h5',\n",
        "                                                           monitor='val_loss',\n",
        "                                                           verbose=1,\n",
        "                                                           save_best_only=True,\n",
        "                                                           save_weights_only=True,\n",
        "                                                           mode='auto',\n",
        "                                                           period=1)"
      ],
      "execution_count": 47,
      "outputs": [
        {
          "output_type": "stream",
          "text": [
            "WARNING:tensorflow:`period` argument is deprecated. Please use `save_freq` to specify the frequency in number of batches seen.\n"
          ],
          "name": "stdout"
        }
      ]
    },
    {
      "cell_type": "markdown",
      "metadata": {
        "id": "A9qdea9RHDM-"
      },
      "source": [
        "The model is then compiled"
      ]
    },
    {
      "cell_type": "code",
      "metadata": {
        "id": "zUWq-eQ94_s0"
      },
      "source": [
        "X_train = X_train.astype('float32') # Conversion to float type from integer type.\n",
        "X_test = X_test.astype('float32')\n",
        "X_val = X_val.astype('float32')"
      ],
      "execution_count": 26,
      "outputs": []
    },
    {
      "cell_type": "code",
      "metadata": {
        "colab": {
          "base_uri": "https://localhost:8080/"
        },
        "id": "Gg9D2iSA4_s0",
        "outputId": "ccdcb089-2400-4677-ac7d-2035e412b977"
      },
      "source": [
        "X_train.shape"
      ],
      "execution_count": 85,
      "outputs": [
        {
          "output_type": "execute_result",
          "data": {
            "text/plain": [
              "(3182, 128, 128, 3)"
            ]
          },
          "metadata": {
            "tags": []
          },
          "execution_count": 85
        }
      ]
    },
    {
      "cell_type": "code",
      "metadata": {
        "colab": {
          "base_uri": "https://localhost:8080/",
          "height": 1000
        },
        "id": "Rr1gXwzY4_s1",
        "outputId": "7c1335b0-f773-4b88-b1e6-c3a4a7e834c2"
      },
      "source": [
        "history = model.fit(X_train,\n",
        "                    y_train,\n",
        "                    batch_size=batch_size,\n",
        "                    epochs=epochs,\n",
        "                    validation_data=(X_val, y_val),\n",
        "                    shuffle=True,\n",
        "                    verbose=1,\n",
        "                    callbacks=[early_stopping,model_checkpoint])\n",
        "\n",
        "# plot training history\n",
        "plt.plot(history.history['loss'], label='train')\n",
        "plt.plot(history.history['val_loss'], label='validation')\n",
        "plt.legend()\n",
        "plt.show()"
      ],
      "execution_count": 48,
      "outputs": [
        {
          "output_type": "stream",
          "text": [
            "Epoch 1/50\n",
            "100/100 [==============================] - 4s 32ms/step - loss: 5.2799 - accuracy: 0.1665 - val_loss: 2.5946 - val_accuracy: 0.1263\n",
            "\n",
            "Epoch 00001: val_loss improved from inf to 2.59459, saving model to cifar_cnn_checkpoint_01_loss2.5946.h5\n",
            "Epoch 2/50\n",
            "100/100 [==============================] - 3s 29ms/step - loss: 1.8974 - accuracy: 0.3399 - val_loss: 3.9840 - val_accuracy: 0.1263\n",
            "\n",
            "Epoch 00002: val_loss did not improve from 2.59459\n",
            "Epoch 3/50\n",
            "100/100 [==============================] - 3s 29ms/step - loss: 1.6636 - accuracy: 0.4107 - val_loss: 5.0060 - val_accuracy: 0.1263\n",
            "\n",
            "Epoch 00003: val_loss did not improve from 2.59459\n",
            "Epoch 4/50\n",
            "100/100 [==============================] - 3s 29ms/step - loss: 1.5545 - accuracy: 0.4618 - val_loss: 2.3014 - val_accuracy: 0.1939\n",
            "\n",
            "Epoch 00004: val_loss improved from 2.59459 to 2.30143, saving model to cifar_cnn_checkpoint_04_loss2.3014.h5\n",
            "Epoch 5/50\n",
            "100/100 [==============================] - 3s 29ms/step - loss: 1.4598 - accuracy: 0.4916 - val_loss: 2.2683 - val_accuracy: 0.2436\n",
            "\n",
            "Epoch 00005: val_loss improved from 2.30143 to 2.26825, saving model to cifar_cnn_checkpoint_05_loss2.2683.h5\n",
            "Epoch 6/50\n",
            "100/100 [==============================] - 3s 29ms/step - loss: 1.3807 - accuracy: 0.5248 - val_loss: 1.8950 - val_accuracy: 0.3482\n",
            "\n",
            "Epoch 00006: val_loss improved from 2.26825 to 1.89498, saving model to cifar_cnn_checkpoint_06_loss1.8950.h5\n",
            "Epoch 7/50\n",
            "100/100 [==============================] - 3s 29ms/step - loss: 1.3294 - accuracy: 0.5324 - val_loss: 2.0963 - val_accuracy: 0.2474\n",
            "\n",
            "Epoch 00007: val_loss did not improve from 1.89498\n",
            "Epoch 8/50\n",
            "100/100 [==============================] - 3s 29ms/step - loss: 1.2390 - accuracy: 0.5739 - val_loss: 1.9183 - val_accuracy: 0.2691\n",
            "\n",
            "Epoch 00008: val_loss did not improve from 1.89498\n",
            "Epoch 9/50\n",
            "100/100 [==============================] - 3s 29ms/step - loss: 1.2186 - accuracy: 0.5847 - val_loss: 1.7352 - val_accuracy: 0.3520\n",
            "\n",
            "Epoch 00009: val_loss improved from 1.89498 to 1.73525, saving model to cifar_cnn_checkpoint_09_loss1.7352.h5\n",
            "Epoch 10/50\n",
            "100/100 [==============================] - 3s 29ms/step - loss: 1.1142 - accuracy: 0.6207 - val_loss: 1.6879 - val_accuracy: 0.3610\n",
            "\n",
            "Epoch 00010: val_loss improved from 1.73525 to 1.68787, saving model to cifar_cnn_checkpoint_10_loss1.6879.h5\n",
            "Epoch 11/50\n",
            "100/100 [==============================] - 3s 29ms/step - loss: 1.0618 - accuracy: 0.6485 - val_loss: 1.4126 - val_accuracy: 0.4758\n",
            "\n",
            "Epoch 00011: val_loss improved from 1.68787 to 1.41257, saving model to cifar_cnn_checkpoint_11_loss1.4126.h5\n",
            "Epoch 12/50\n",
            "100/100 [==============================] - 3s 29ms/step - loss: 0.9859 - accuracy: 0.6523 - val_loss: 1.3472 - val_accuracy: 0.5281\n",
            "\n",
            "Epoch 00012: val_loss improved from 1.41257 to 1.34721, saving model to cifar_cnn_checkpoint_12_loss1.3472.h5\n",
            "Epoch 13/50\n",
            "100/100 [==============================] - 3s 29ms/step - loss: 1.0490 - accuracy: 0.6594 - val_loss: 1.3415 - val_accuracy: 0.4987\n",
            "\n",
            "Epoch 00013: val_loss improved from 1.34721 to 1.34148, saving model to cifar_cnn_checkpoint_13_loss1.3415.h5\n",
            "Epoch 14/50\n",
            "100/100 [==============================] - 3s 29ms/step - loss: 0.9855 - accuracy: 0.6641 - val_loss: 1.3598 - val_accuracy: 0.5255\n",
            "\n",
            "Epoch 00014: val_loss did not improve from 1.34148\n",
            "Epoch 15/50\n",
            "100/100 [==============================] - 3s 29ms/step - loss: 0.8991 - accuracy: 0.6974 - val_loss: 1.8044 - val_accuracy: 0.3482\n",
            "\n",
            "Epoch 00015: val_loss did not improve from 1.34148\n",
            "Epoch 16/50\n",
            "100/100 [==============================] - 3s 29ms/step - loss: 0.9861 - accuracy: 0.6651 - val_loss: 0.9939 - val_accuracy: 0.7245\n",
            "\n",
            "Epoch 00016: val_loss improved from 1.34148 to 0.99389, saving model to cifar_cnn_checkpoint_16_loss0.9939.h5\n",
            "Epoch 17/50\n",
            "100/100 [==============================] - 3s 29ms/step - loss: 0.8354 - accuracy: 0.7049 - val_loss: 1.3653 - val_accuracy: 0.5242\n",
            "\n",
            "Epoch 00017: val_loss did not improve from 0.99389\n",
            "Epoch 18/50\n",
            "100/100 [==============================] - 3s 29ms/step - loss: 0.7788 - accuracy: 0.7243 - val_loss: 1.2052 - val_accuracy: 0.5676\n",
            "\n",
            "Epoch 00018: val_loss did not improve from 0.99389\n",
            "Epoch 19/50\n",
            "100/100 [==============================] - 3s 29ms/step - loss: 0.7954 - accuracy: 0.7234 - val_loss: 1.7344 - val_accuracy: 0.3903\n",
            "\n",
            "Epoch 00019: val_loss did not improve from 0.99389\n",
            "Epoch 20/50\n",
            "100/100 [==============================] - 3s 29ms/step - loss: 0.8070 - accuracy: 0.7270 - val_loss: 1.2434 - val_accuracy: 0.5612\n",
            "\n",
            "Epoch 00020: val_loss did not improve from 0.99389\n",
            "Epoch 21/50\n",
            "100/100 [==============================] - 3s 29ms/step - loss: 0.7304 - accuracy: 0.7559 - val_loss: 0.8125 - val_accuracy: 0.7513\n",
            "\n",
            "Epoch 00021: val_loss improved from 0.99389 to 0.81253, saving model to cifar_cnn_checkpoint_21_loss0.8125.h5\n",
            "Epoch 22/50\n",
            "100/100 [==============================] - 3s 29ms/step - loss: 0.7226 - accuracy: 0.7513 - val_loss: 0.8571 - val_accuracy: 0.7105\n",
            "\n",
            "Epoch 00022: val_loss did not improve from 0.81253\n",
            "Epoch 23/50\n",
            "100/100 [==============================] - 3s 29ms/step - loss: 0.7134 - accuracy: 0.7317 - val_loss: 2.0321 - val_accuracy: 0.2946\n",
            "\n",
            "Epoch 00023: val_loss did not improve from 0.81253\n",
            "Epoch 24/50\n",
            "100/100 [==============================] - 3s 29ms/step - loss: 0.7040 - accuracy: 0.7472 - val_loss: 0.8995 - val_accuracy: 0.7028\n",
            "\n",
            "Epoch 00024: val_loss did not improve from 0.81253\n",
            "Epoch 25/50\n",
            "100/100 [==============================] - 3s 29ms/step - loss: 0.6926 - accuracy: 0.7585 - val_loss: 0.8630 - val_accuracy: 0.7232\n",
            "\n",
            "Epoch 00025: val_loss did not improve from 0.81253\n",
            "Epoch 26/50\n",
            "100/100 [==============================] - 3s 30ms/step - loss: 0.6478 - accuracy: 0.7685 - val_loss: 1.6859 - val_accuracy: 0.4184\n",
            "\n",
            "Epoch 00026: val_loss did not improve from 0.81253\n",
            "Epoch 27/50\n",
            "100/100 [==============================] - 3s 29ms/step - loss: 0.7043 - accuracy: 0.7594 - val_loss: 0.9326 - val_accuracy: 0.6760\n",
            "\n",
            "Epoch 00027: val_loss did not improve from 0.81253\n",
            "Epoch 28/50\n",
            "100/100 [==============================] - 3s 29ms/step - loss: 0.6624 - accuracy: 0.7799 - val_loss: 2.0953 - val_accuracy: 0.3508\n",
            "\n",
            "Epoch 00028: val_loss did not improve from 0.81253\n",
            "Epoch 29/50\n",
            "100/100 [==============================] - 3s 28ms/step - loss: 0.6889 - accuracy: 0.7677 - val_loss: 0.7592 - val_accuracy: 0.7628\n",
            "\n",
            "Epoch 00029: val_loss improved from 0.81253 to 0.75923, saving model to cifar_cnn_checkpoint_29_loss0.7592.h5\n",
            "Epoch 30/50\n",
            "100/100 [==============================] - 3s 29ms/step - loss: 0.6724 - accuracy: 0.7660 - val_loss: 1.0040 - val_accuracy: 0.6492\n",
            "\n",
            "Epoch 00030: val_loss did not improve from 0.75923\n",
            "Epoch 31/50\n",
            "100/100 [==============================] - 3s 29ms/step - loss: 0.6453 - accuracy: 0.7856 - val_loss: 1.0362 - val_accuracy: 0.6454\n",
            "\n",
            "Epoch 00031: val_loss did not improve from 0.75923\n",
            "Epoch 32/50\n",
            "100/100 [==============================] - 3s 29ms/step - loss: 0.6219 - accuracy: 0.7808 - val_loss: 0.6717 - val_accuracy: 0.7844\n",
            "\n",
            "Epoch 00032: val_loss improved from 0.75923 to 0.67175, saving model to cifar_cnn_checkpoint_32_loss0.6717.h5\n",
            "Epoch 33/50\n",
            "100/100 [==============================] - 3s 29ms/step - loss: 0.5629 - accuracy: 0.8135 - val_loss: 0.6368 - val_accuracy: 0.7857\n",
            "\n",
            "Epoch 00033: val_loss improved from 0.67175 to 0.63679, saving model to cifar_cnn_checkpoint_33_loss0.6368.h5\n",
            "Epoch 34/50\n",
            "100/100 [==============================] - 3s 29ms/step - loss: 0.5840 - accuracy: 0.7986 - val_loss: 0.8476 - val_accuracy: 0.7092\n",
            "\n",
            "Epoch 00034: val_loss did not improve from 0.63679\n",
            "Epoch 35/50\n",
            "100/100 [==============================] - 3s 28ms/step - loss: 0.5989 - accuracy: 0.7988 - val_loss: 0.6692 - val_accuracy: 0.7717\n",
            "\n",
            "Epoch 00035: val_loss did not improve from 0.63679\n",
            "Epoch 36/50\n",
            "100/100 [==============================] - 3s 29ms/step - loss: 0.5807 - accuracy: 0.7930 - val_loss: 0.7495 - val_accuracy: 0.7500\n",
            "\n",
            "Epoch 00036: val_loss did not improve from 0.63679\n",
            "Epoch 37/50\n",
            "100/100 [==============================] - 3s 29ms/step - loss: 0.5755 - accuracy: 0.8055 - val_loss: 0.7306 - val_accuracy: 0.7474\n",
            "\n",
            "Epoch 00037: val_loss did not improve from 0.63679\n",
            "Epoch 38/50\n",
            "100/100 [==============================] - 3s 29ms/step - loss: 0.6123 - accuracy: 0.8049 - val_loss: 1.2043 - val_accuracy: 0.5791\n",
            "\n",
            "Epoch 00038: val_loss did not improve from 0.63679\n",
            "Epoch 39/50\n",
            "100/100 [==============================] - 3s 29ms/step - loss: 0.5958 - accuracy: 0.8113 - val_loss: 0.6960 - val_accuracy: 0.7513\n",
            "\n",
            "Epoch 00039: val_loss did not improve from 0.63679\n",
            "Epoch 40/50\n",
            "100/100 [==============================] - 3s 29ms/step - loss: 0.5345 - accuracy: 0.8206 - val_loss: 1.7725 - val_accuracy: 0.4043\n",
            "\n",
            "Epoch 00040: val_loss did not improve from 0.63679\n",
            "Epoch 41/50\n",
            "100/100 [==============================] - 3s 29ms/step - loss: 0.6079 - accuracy: 0.7976 - val_loss: 0.7344 - val_accuracy: 0.7653\n",
            "\n",
            "Epoch 00041: val_loss did not improve from 0.63679\n",
            "Epoch 42/50\n",
            "100/100 [==============================] - 3s 29ms/step - loss: 0.5403 - accuracy: 0.8138 - val_loss: 1.0252 - val_accuracy: 0.6454\n",
            "\n",
            "Epoch 00042: val_loss did not improve from 0.63679\n",
            "Epoch 43/50\n",
            "100/100 [==============================] - 3s 29ms/step - loss: 0.5051 - accuracy: 0.8224 - val_loss: 0.6856 - val_accuracy: 0.7640\n",
            "\n",
            "Epoch 00043: val_loss did not improve from 0.63679\n"
          ],
          "name": "stdout"
        },
        {
          "output_type": "display_data",
          "data": {
            "image/png": "[encoded data removed]",
            "text/plain": [
              "<Figure size 432x288 with 1 Axes>"
            ]
          },
          "metadata": {
            "tags": [],
            "needs_background": "light"
          }
        }
      ]
    },
    {
      "cell_type": "markdown",
      "metadata": {
        "id": "NuklHm-nHKwV"
      },
      "source": [
        "The model is run for 50 epochs (though it stops after epoch #43, as the early stopping kicks in) and the plot shows the loss decreasing for both the train and the validation set"
      ]
    },
    {
      "cell_type": "markdown",
      "metadata": {
        "id": "qVOrFNOzHZnJ"
      },
      "source": [
        "## Model evaluation"
      ]
    },
    {
      "cell_type": "code",
      "metadata": {
        "colab": {
          "base_uri": "https://localhost:8080/"
        },
        "id": "7L1Ynxin4_s1",
        "outputId": "d878d10f-c2ac-45a6-ecba-963bac18b0b1"
      },
      "source": [
        "# Score trained model.\n",
        "scores = model.evaluate(X_test, y_test, verbose=1)\n",
        "print('Test loss:', scores[0])\n",
        "print('Test accuracy:', scores[1])"
      ],
      "execution_count": 49,
      "outputs": [
        {
          "output_type": "stream",
          "text": [
            "25/25 [==============================] - 0s 11ms/step - loss: 0.6469 - accuracy: 0.7730\n",
            "Test loss: 0.6469317078590393\n",
            "Test accuracy: 0.7729591727256775\n"
          ],
          "name": "stdout"
        }
      ]
    },
    {
      "cell_type": "markdown",
      "metadata": {
        "id": "3onjhrzXRHeb"
      },
      "source": [
        "The model was first trained on the train set and validated on the validation set. Now it is time to evaluate on the test set, and its accuracy is 77%"
      ]
    },
    {
      "cell_type": "code",
      "metadata": {
        "id": "Nn296NuR4_s1"
      },
      "source": [
        "y_pred=model.predict(X_test)"
      ],
      "execution_count": 50,
      "outputs": []
    },
    {
      "cell_type": "code",
      "metadata": {
        "id": "1SyhJlwr7r1l"
      },
      "source": [
        "labels=['Loose Silky-bent','Common Chickweed','Scentless Mayweed', 'Small-flowered Cranesbill','Fat Hen','Charlock','Sugar beet', 'Cleavers', 'Black-grass', 'Shepherds Purse', 'Common wheat', 'Maize']"
      ],
      "execution_count": 29,
      "outputs": []
    },
    {
      "cell_type": "code",
      "metadata": {
        "colab": {
          "base_uri": "https://localhost:8080/"
        },
        "id": "yWqGJi7v4_s1",
        "outputId": "1c3559ec-01f4-43e3-a3a7-feb9d45a61e8"
      },
      "source": [
        " cm = confusion_matrix(y_test.argmax(axis=1), y_pred.argmax(axis=1))\n",
        "print(cm)"
      ],
      "execution_count": 51,
      "outputs": [
        {
          "output_type": "stream",
          "text": [
            "[[  4   0   0   0   1   1  36   0   1   0   0   0]\n",
            " [  0  39   1   0   0   1   0   0  19   1   3   0]\n",
            " [  0   2  36   0   0   0   0   0   3   0  10   2]\n",
            " [  0   0   0  88   0   0   0   0   5   1   1   0]\n",
            " [  1   0   1   0  26   2   0   1   1   0   0   2]\n",
            " [  0   1   0   2   0  72   0   0   0   0   0   1]\n",
            " [  1   0   0   1   2   0 103   0   5   0   0   0]\n",
            " [  0   0   0   1   0   0   0  22   1   1   4   3]\n",
            " [  0   0   0   0   0   0   0   0  81   0   0   0]\n",
            " [  0   0   0   4   0   0   0   0  25  23   3   0]\n",
            " [  0   0   0   5   0   0   0   0   2   5  74   0]\n",
            " [  0   0   0   0   0   0   0   0  12   3   0  38]]\n"
          ],
          "name": "stdout"
        }
      ]
    },
    {
      "cell_type": "code",
      "metadata": {
        "colab": {
          "base_uri": "https://localhost:8080/",
          "height": 563
        },
        "id": "2x1aOnAaCc_p",
        "outputId": "70c3a992-d8c9-469f-915c-c281e0236244"
      },
      "source": [
        "df_cm = pd.DataFrame(cm, index = [i for i in labels],\n",
        "                     columns = [i for i in labels])\n",
        "plt.figure(figsize = (10,7))\n",
        "sns.heatmap(df_cm, annot=True, fmt='d')"
      ],
      "execution_count": 52,
      "outputs": [
        {
          "output_type": "execute_result",
          "data": {
            "text/plain": [
              "<matplotlib.axes._subplots.AxesSubplot at 0x7f628a433a90>"
            ]
          },
          "metadata": {
            "tags": []
          },
          "execution_count": 52
        },
        {
          "output_type": "display_data",
          "data": {
            "image/png": "[encoded data removed]",
            "text/plain": [
              "<Figure size 720x504 with 2 Axes>"
            ]
          },
          "metadata": {
            "tags": [],
            "needs_background": "light"
          }
        }
      ]
    },
    {
      "cell_type": "markdown",
      "metadata": {
        "id": "NbTdnj-OHea7"
      },
      "source": [
        "The confusion matrix looks a bit better with a heatmap, and it shows quite clearly that the model is erforming quite well, with the notable exception of the Black grass, where a lot of mis-classifications appear to be concentrated"
      ]
    },
    {
      "cell_type": "code",
      "metadata": {
        "colab": {
          "base_uri": "https://localhost:8080/"
        },
        "id": "ypcERVZh4_s2",
        "outputId": "22b94418-07e9-474f-b6d7-1224793e7fd8"
      },
      "source": [
        "print(\"=== Classification Report ===\")\n",
        "print(classification_report(y_test.argmax(axis=1), y_pred.argmax(axis=1), target_names=labels))"
      ],
      "execution_count": 53,
      "outputs": [
        {
          "output_type": "stream",
          "text": [
            "=== Classification Report ===\n",
            "                           precision    recall  f1-score   support\n",
            "\n",
            "         Loose Silky-bent       0.67      0.09      0.16        43\n",
            "         Common Chickweed       0.93      0.61      0.74        64\n",
            "        Scentless Mayweed       0.95      0.68      0.79        53\n",
            "Small-flowered Cranesbill       0.87      0.93      0.90        95\n",
            "                  Fat Hen       0.90      0.76      0.83        34\n",
            "                 Charlock       0.95      0.95      0.95        76\n",
            "               Sugar beet       0.74      0.92      0.82       112\n",
            "                 Cleavers       0.96      0.69      0.80        32\n",
            "              Black-grass       0.52      1.00      0.69        81\n",
            "          Shepherds Purse       0.68      0.42      0.52        55\n",
            "             Common wheat       0.78      0.86      0.82        86\n",
            "                    Maize       0.83      0.72      0.77        53\n",
            "\n",
            "                 accuracy                           0.77       784\n",
            "                macro avg       0.81      0.72      0.73       784\n",
            "             weighted avg       0.80      0.77      0.76       784\n",
            "\n"
          ],
          "name": "stdout"
        }
      ]
    },
    {
      "cell_type": "markdown",
      "metadata": {
        "id": "pdsOo0VcRBI2"
      },
      "source": [
        "## Visualize predictions"
      ]
    },
    {
      "cell_type": "code",
      "metadata": {
        "colab": {
          "base_uri": "https://localhost:8080/"
        },
        "id": "Yh8t_mli4_s2",
        "outputId": "2414017a-5fda-42ab-97a8-ea39fbeb8ab1"
      },
      "source": [
        "print(y_test[2].argmax(axis=-1))\n",
        "print(y_pred[2].argmax(axis=-1))\n"
      ],
      "execution_count": 54,
      "outputs": [
        {
          "output_type": "stream",
          "text": [
            "2\n",
            "1\n"
          ],
          "name": "stdout"
        }
      ]
    },
    {
      "cell_type": "markdown",
      "metadata": {
        "id": "Qf4rlKdNQrX2"
      },
      "source": [
        "This first prediction turns out false"
      ]
    },
    {
      "cell_type": "code",
      "metadata": {
        "colab": {
          "base_uri": "https://localhost:8080/"
        },
        "id": "IP_9J_Mq4_s2",
        "outputId": "d7c9f7e0-19ad-415c-8694-7628b1db3e2e"
      },
      "source": [
        "print(y_test[3].argmax(axis=-1))\n",
        "print(y_pred[3].argmax(axis=-1))"
      ],
      "execution_count": 55,
      "outputs": [
        {
          "output_type": "stream",
          "text": [
            "5\n",
            "5\n"
          ],
          "name": "stdout"
        }
      ]
    },
    {
      "cell_type": "markdown",
      "metadata": {
        "id": "Gc-ZVHbPQu3o"
      },
      "source": [
        "correct!"
      ]
    },
    {
      "cell_type": "code",
      "metadata": {
        "colab": {
          "base_uri": "https://localhost:8080/"
        },
        "id": "vtOlLVw74_s3",
        "outputId": "be498d89-12cf-4f3a-d9b8-e8af54fb0be2"
      },
      "source": [
        "print(y_test[33].argmax(axis=-1))\n",
        "print(y_pred[33].argmax(axis=-1))"
      ],
      "execution_count": 56,
      "outputs": [
        {
          "output_type": "stream",
          "text": [
            "6\n",
            "6\n"
          ],
          "name": "stdout"
        }
      ]
    },
    {
      "cell_type": "markdown",
      "metadata": {
        "id": "cpJqrkjWQyVq"
      },
      "source": [
        "correct too"
      ]
    },
    {
      "cell_type": "code",
      "metadata": {
        "colab": {
          "base_uri": "https://localhost:8080/"
        },
        "id": "E4LWe-DC4_s3",
        "outputId": "c9f6e7f8-37d8-4b09-a1b7-d52e24bf63c4"
      },
      "source": [
        "print(y_test[36].argmax(axis=-1))\n",
        "print(y_pred[36].argmax(axis=-1))"
      ],
      "execution_count": 57,
      "outputs": [
        {
          "output_type": "stream",
          "text": [
            "6\n",
            "6\n"
          ],
          "name": "stdout"
        }
      ]
    },
    {
      "cell_type": "markdown",
      "metadata": {
        "id": "1z6584zfQ4do"
      },
      "source": [
        "correct"
      ]
    },
    {
      "cell_type": "code",
      "metadata": {
        "colab": {
          "base_uri": "https://localhost:8080/"
        },
        "id": "tKlxYWzq4_s3",
        "outputId": "05ec4881-b570-453c-bfea-2c5baae353be"
      },
      "source": [
        "print(y_test[59].argmax(axis=-1))\n",
        "print(y_pred[59].argmax(axis=-1))"
      ],
      "execution_count": 58,
      "outputs": [
        {
          "output_type": "stream",
          "text": [
            "0\n",
            "6\n"
          ],
          "name": "stdout"
        }
      ]
    },
    {
      "cell_type": "markdown",
      "metadata": {
        "id": "2j7OKGgBQ69-"
      },
      "source": [
        "And this last one is wrong"
      ]
    },
    {
      "cell_type": "code",
      "metadata": {
        "id": "NeqG89Xe4_s4"
      },
      "source": [
        ""
      ],
      "execution_count": null,
      "outputs": []
    }
  ]
}